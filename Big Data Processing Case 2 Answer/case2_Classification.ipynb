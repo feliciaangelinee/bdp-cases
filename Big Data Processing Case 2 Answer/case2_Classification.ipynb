{
  "nbformat": 4,
  "nbformat_minor": 0,
  "metadata": {
    "colab": {
      "name": "case2.ipynb",
      "provenance": []
    },
    "kernelspec": {
      "name": "python3",
      "display_name": "Python 3"
    }
  },
  "cells": [
    {
      "cell_type": "code",
      "metadata": {
        "id": "KE_vSUSSoDip",
        "colab_type": "code",
        "outputId": "011a50cb-e441-4d8c-e5fd-54acd597951a",
        "colab": {
          "base_uri": "https://localhost:8080/",
          "height": 104
        }
      },
      "source": [
        "### Important ###\n",
        "### Run this cell if you are using Google Colab\n",
        "\n",
        "!apt-get install openjdk-8-jdk-headless -qq > /dev/null\n",
        "print('[Done] openjdk8 has been installed')\n",
        "\n",
        "!wget -q https://downloads.apache.org/spark/spark-2.4.5/spark-2.4.5-bin-hadoop2.7.tgz\n",
        "!tar xf spark-2.4.5-bin-hadoop2.7.tgz -C /usr/lib/\n",
        "!rm spark-2.4.5-bin-hadoop2.7.tgz\n",
        "print('[Done] Spark has been installed')\n",
        "\n",
        "!pip install -q findspark\n",
        "print('[Done] findspark has been installed')\n",
        "\n",
        "import os\n",
        "os.environ[\"JAVA_HOME\"] = \"/usr/lib/jvm/java-8-openjdk-amd64\"\n",
        "os.environ[\"SPARK_HOME\"] = \"/usr/lib/spark-2.4.5-bin-hadoop2.7\"\n",
        "print('[Done] Environment variables has been set')\n",
        "\n",
        "import findspark\n",
        "findspark.init()\n",
        "print('[Done] You can use pyspark now.')"
      ],
      "execution_count": 2,
      "outputs": [
        {
          "output_type": "stream",
          "text": [
            "[Done] openjdk8 has been installed\n",
            "[Done] Spark has been installed\n",
            "[Done] findspark has been installed\n",
            "[Done] Environment variables has been set\n",
            "[Done] You can use pyspark now.\n"
          ],
          "name": "stdout"
        }
      ]
    },
    {
      "cell_type": "code",
      "metadata": {
        "id": "RP6kyTK3pQR_",
        "colab_type": "code",
        "colab": {}
      },
      "source": [
        "from pyspark.sql import SparkSession\n",
        "from pyspark.sql.functions import when\n",
        "from pyspark.ml.feature import VectorAssembler, StandardScaler, StringIndexer\n",
        "from pyspark.ml.classification import LogisticRegression\n",
        "from pyspark.ml.evaluation import BinaryClassificationEvaluator"
      ],
      "execution_count": 0,
      "outputs": []
    },
    {
      "cell_type": "code",
      "metadata": {
        "id": "qG4swzKgpTSA",
        "colab_type": "code",
        "colab": {}
      },
      "source": [
        "spark = SparkSession.builder.getOrCreate()"
      ],
      "execution_count": 0,
      "outputs": []
    },
    {
      "cell_type": "code",
      "metadata": {
        "id": "ltmFTHY2pVzc",
        "colab_type": "code",
        "colab": {}
      },
      "source": [
        "# LOAD DATA"
      ],
      "execution_count": 0,
      "outputs": []
    },
    {
      "cell_type": "code",
      "metadata": {
        "id": "-tESwbLqpXsh",
        "colab_type": "code",
        "colab": {}
      },
      "source": [
        "df_train = spark.read.csv('Planet_Training.csv',inferSchema=True, header=True)"
      ],
      "execution_count": 0,
      "outputs": []
    },
    {
      "cell_type": "code",
      "metadata": {
        "id": "7U5_KblnpfMV",
        "colab_type": "code",
        "colab": {}
      },
      "source": [
        "df_test = spark.read.csv('Planet_Testing.csv',inferSchema=True, header=True)"
      ],
      "execution_count": 0,
      "outputs": []
    },
    {
      "cell_type": "code",
      "metadata": {
        "id": "0RMzcNFIMZPl",
        "colab_type": "code",
        "colab": {
          "base_uri": "https://localhost:8080/",
          "height": 468
        },
        "outputId": "5373c710-1702-4ee3-d823-fd196aa75bea"
      },
      "source": [
        "df_train.show()"
      ],
      "execution_count": 8,
      "outputs": [
        {
          "output_type": "stream",
          "text": [
            "+------------+-----------+------+------+-------+------+----------------+-----+---------+\n",
            "|        Name|Temperature|Carbon| Water|Rhodium|  Iron|Atmosphere Color|Moons|Habitable|\n",
            "+------------+-----------+------+------+-------+------+----------------+-----+---------+\n",
            "|    HD 9827b|     318521|  High|   Low|   High|   Low|            null|    7|        1|\n",
            "|Gliese 6797u|     323488|   Low|Medium|    Low|   Low|          Yellow|    8|        1|\n",
            "|  WASP-5812f|     319279|   Low|   Low|    Low|   Low|          Yellow|    0|        1|\n",
            "|    HD 1310e|     315375|   Low|   Low|    Low|   Low|          Yellow|    6|        1|\n",
            "|    HR 3976s|     302312|   Low|Medium| Medium|  High|          Yellow|    7|        1|\n",
            "|     K2-958x|     329687|   Low|   Low| Medium|   Low|          Yellow|    1|        1|\n",
            "|    HR 2195b|     265746|   Low|  High|    Low|Medium|             Red|    3|        0|\n",
            "|  Ross 5664m|     305214|   Low|  High|    Low|   Low|          Yellow|    5|        1|\n",
            "|    HR 3316t|     299936|Medium|  High|    Low|  High|          Yellow|    6|        0|\n",
            "|  KELT-7399p|     269577|   Low|Medium|    Low|   Low|             Red|    4|        1|\n",
            "|    HD 3285j|     303631|  High|  High| Medium|  High|             Red|    5|        0|\n",
            "|    HD 6423t|     290051|  High|  High|   High|  High|             Red|    8|        0|\n",
            "|    K2-9004k|     306122|   Low|   Low|    Low|   Low|          Yellow|    4|        1|\n",
            "|   LHS 7890e|     300635|Medium|   Low|    Low|   Low|          Yellow|    7|        1|\n",
            "|Gliese 1662e|     312152|  High|  High|   High|  High|            Blue|    2|        0|\n",
            "|    HR 9195o|     265942|Medium|Medium|   High|  High|            Blue|    5|        0|\n",
            "|Gliese 1896u|     307368|  High|  High|   High|  High|             Red|    3|        0|\n",
            "|  Ross 6397p|     276274|  High|Medium|    Low|   Low|          Yellow|    3|        1|\n",
            "|   LHS 7157t|     308531|   Low|Medium|    Low|   Low|          Yellow|    6|        1|\n",
            "|    HD 5728o|     329561|  High|   Low|   High|  High|          Yellow|    1|        1|\n",
            "+------------+-----------+------+------+-------+------+----------------+-----+---------+\n",
            "only showing top 20 rows\n",
            "\n"
          ],
          "name": "stdout"
        }
      ]
    },
    {
      "cell_type": "code",
      "metadata": {
        "id": "LW7DMvZ3pkl7",
        "colab_type": "code",
        "colab": {}
      },
      "source": [
        "# 2. SELECT FEATURES"
      ],
      "execution_count": 0,
      "outputs": []
    },
    {
      "cell_type": "code",
      "metadata": {
        "id": "NQpJn3Xnpm7N",
        "colab_type": "code",
        "colab": {}
      },
      "source": [
        "df_train = df_train.select('Temperature','Water','Atmosphere Color','Habitable')\n",
        "df_test = df_test.select('Temperature','Water','Atmosphere Color','Habitable')"
      ],
      "execution_count": 0,
      "outputs": []
    },
    {
      "cell_type": "code",
      "metadata": {
        "id": "BokTrwaUpaxW",
        "colab_type": "code",
        "colab": {}
      },
      "source": [
        "# 3. DATA PREPORCESSING"
      ],
      "execution_count": 0,
      "outputs": []
    },
    {
      "cell_type": "code",
      "metadata": {
        "id": "0ceEv6n_rB6P",
        "colab_type": "code",
        "colab": {}
      },
      "source": [
        "df_train = df_train.dropna()\n",
        "df_test = df_test.dropna()"
      ],
      "execution_count": 0,
      "outputs": []
    },
    {
      "cell_type": "code",
      "metadata": {
        "id": "YHt8m_zvrDqm",
        "colab_type": "code",
        "colab": {}
      },
      "source": [
        "# 4. TRANSFORM DATA"
      ],
      "execution_count": 0,
      "outputs": []
    },
    {
      "cell_type": "code",
      "metadata": {
        "id": "cvXH7s6jrFwc",
        "colab_type": "code",
        "colab": {}
      },
      "source": [
        "df_train = df_train.withColumn(\"Water\", when(df_train[\"Water\"] == \"High\", 2).\n",
        "                                        when(df_train[\"Water\"] == \"Medium\", 1).\n",
        "                                        when(df_train[\"Water\"] == \"Low\", 0))\n",
        "df_train = df_train.withColumn(\"Atmosphere Color\",  when(df_train[\"Atmosphere Color\"] == \"Yellow\", 2).\n",
        "                                                    when(df_train[\"Atmosphere Color\"] == \"Blue\", 1).\n",
        "                                                    when(df_train[\"Atmosphere Color\"] == \"Red\", 0))"
      ],
      "execution_count": 0,
      "outputs": []
    },
    {
      "cell_type": "code",
      "metadata": {
        "id": "wM2c4eDOrM0E",
        "colab_type": "code",
        "colab": {}
      },
      "source": [
        "df_test = df_test.withColumn(\"Water\", when(df_test[\"Water\"] == \"High\", 2).\n",
        "                                      when(df_test[\"Water\"] == \"Medium\", 1).\n",
        "                                      when(df_test[\"Water\"] == \"Low\", 0))\n",
        "df_test = df_test.withColumn(\"Atmosphere Color\",  when(df_test[\"Atmosphere Color\"] == \"Yellow\", 2).\n",
        "                                                  when(df_test[\"Atmosphere Color\"] == \"Blue\", 1).\n",
        "                                                  when(df_test[\"Atmosphere Color\"] == \"Red\", 0))"
      ],
      "execution_count": 0,
      "outputs": []
    },
    {
      "cell_type": "code",
      "metadata": {
        "id": "RX1W5ZZErP93",
        "colab_type": "code",
        "colab": {}
      },
      "source": [
        "cols = df_train.columns\n",
        "cols.remove(\"Habitable\")\n",
        "df_train = VectorAssembler(inputCols = cols, outputCol = \"Features\").transform(df_train)"
      ],
      "execution_count": 0,
      "outputs": []
    },
    {
      "cell_type": "code",
      "metadata": {
        "id": "QN-ZhLwhrUyy",
        "colab_type": "code",
        "colab": {}
      },
      "source": [
        "cols = df_test.columns\n",
        "cols.remove(\"Habitable\")\n",
        "df_test = VectorAssembler(inputCols = cols, outputCol = \"Features\").transform(df_test)"
      ],
      "execution_count": 0,
      "outputs": []
    },
    {
      "cell_type": "code",
      "metadata": {
        "id": "kBsTTuLIrXGu",
        "colab_type": "code",
        "colab": {}
      },
      "source": [
        "# 5. NORMALIZATION"
      ],
      "execution_count": 0,
      "outputs": []
    },
    {
      "cell_type": "code",
      "metadata": {
        "id": "15wSHHT7raTe",
        "colab_type": "code",
        "colab": {}
      },
      "source": [
        "scaler = StandardScaler(\n",
        "    inputCol = 'Features',\n",
        "    outputCol = 'Features_normalized'\n",
        ")"
      ],
      "execution_count": 0,
      "outputs": []
    },
    {
      "cell_type": "code",
      "metadata": {
        "id": "Qw3pb-Iprenm",
        "colab_type": "code",
        "colab": {}
      },
      "source": [
        "df_train = scaler.fit(df_train).transform((df_train))\n",
        "df_test = scaler.fit(df_test).transform((df_test))"
      ],
      "execution_count": 0,
      "outputs": []
    },
    {
      "cell_type": "code",
      "metadata": {
        "id": "mRbhMlOnrsBF",
        "colab_type": "code",
        "colab": {}
      },
      "source": [
        "# 6. GENERATE MODEL"
      ],
      "execution_count": 0,
      "outputs": []
    },
    {
      "cell_type": "code",
      "metadata": {
        "id": "Mav_OK6zruK0",
        "colab_type": "code",
        "colab": {}
      },
      "source": [
        "model = LogisticRegression(featuresCol = \"Features_normalized\", \n",
        "                           labelCol = \"Habitable\", \n",
        "                           maxIter = 10).fit(df_train)"
      ],
      "execution_count": 0,
      "outputs": []
    },
    {
      "cell_type": "code",
      "metadata": {
        "id": "kntZjLk4ryFr",
        "colab_type": "code",
        "colab": {}
      },
      "source": [
        "# 7. MODEL TESTING AND EVALUATION"
      ],
      "execution_count": 0,
      "outputs": []
    },
    {
      "cell_type": "code",
      "metadata": {
        "id": "TMovADr6r03T",
        "colab_type": "code",
        "outputId": "a90d00fa-ab1d-401b-89ea-0a3d16772a6c",
        "colab": {
          "base_uri": "https://localhost:8080/",
          "height": 488
        }
      },
      "source": [
        "prediction = model.transform(df_test)\n",
        "prediction.show()"
      ],
      "execution_count": 19,
      "outputs": [
        {
          "output_type": "stream",
          "text": [
            "+-----------+-----+----------------+---------+------------------+--------------------+--------------------+--------------------+----------+\n",
            "|Temperature|Water|Atmosphere Color|Habitable|          Features| Features_normalized|       rawPrediction|         probability|prediction|\n",
            "+-----------+-----+----------------+---------+------------------+--------------------+--------------------+--------------------+----------+\n",
            "|     325145|    2|               2|        1|[325145.0,2.0,2.0]|[16.6313339613367...|[-0.5960950727923...|[0.35523758686965...|       1.0|\n",
            "|     269079|    1|               0|        0|[269079.0,1.0,0.0]|[13.7635292284443...|[2.99908514599944...|[0.95253277965808...|       0.0|\n",
            "|     302996|    2|               2|        1|[302996.0,2.0,2.0]|[15.4984012208374...|[-0.2122758672718...|[0.44712941787447...|       1.0|\n",
            "|     312604|    2|               2|        1|[312604.0,2.0,2.0]|[15.9898553619146...|[-0.3787725455255...|[0.40642297823869...|       1.0|\n",
            "|     280875|    0|               2|        1|[280875.0,0.0,2.0]|[14.3669006947376...|[-3.0511922662257...|[0.04516602784914...|       1.0|\n",
            "|     306384|    2|               0|        0|[306384.0,2.0,0.0]|[15.6716991631740...|[3.96375337124354...|[0.98136226477134...|       0.0|\n",
            "|     303007|    2|               2|        1|[303007.0,2.0,2.0]|[15.4989638764944...|[-0.2124664858668...|[0.44708229653662...|       1.0|\n",
            "|     297965|    2|               0|        0|[297965.0,2.0,0.0]|[15.2410629835603...|[4.10964591227371...|[0.98385146992994...|       0.0|\n",
            "|     290305|    2|               1|        0|[290305.0,2.0,1.0]|[14.8492500442752...|[2.12501588736050...|[0.89331092023285...|       0.0|\n",
            "|     316596|    2|               0|        0|[316596.0,2.0,0.0]|[16.1940482148683...|[3.78678999922784...|[0.97783420940026...|       0.0|\n",
            "|     266840|    0|               2|        1|[266840.0,0.0,2.0]|[13.6490032270005...|[-2.8079802679648...|[0.05689445759701...|       1.0|\n",
            "|     324187|    0|               2|        1|[324187.0,0.0,2.0]|[16.5823317686690...|[-3.8017443195692...|[0.02184396928856...|       1.0|\n",
            "|     327198|    0|               2|        1|[327198.0,0.0,2.0]|[16.7363459671268...|[-3.8539218277105...|[0.02075648082162...|       1.0|\n",
            "|     310018|    2|               2|        0|[310018.0,2.0,2.0]|[15.8575801320202...|[-0.3339598467365...|[0.41727744454058...|       1.0|\n",
            "|     302718|    2|               1|        1|[302718.0,2.0,1.0]|[15.4841813778712...|[1.90991146738098...|[0.87100920134839...|       0.0|\n",
            "|     301697|    0|               2|        1|[301697.0,0.0,2.0]|[15.4319567028046...|[-3.4120159376036...|[0.03192204010217...|       1.0|\n",
            "|     316071|    1|               2|        1|[316071.0,1.0,2.0]|[16.1671941948782...|[-2.0499772576305...|[0.11405467928984...|       1.0|\n",
            "|     271765|    0|               2|        1|[271765.0,0.0,2.0]|[13.9009195097654...|[-2.8933254116367...|[0.05248449980675...|       1.0|\n",
            "|     269497|    2|               1|        0|[269497.0,2.0,1.0]|[13.7849101434079...|[2.48559695325383...|[0.92312592439478...|       0.0|\n",
            "|     311830|    2|               0|        0|[311830.0,2.0,0.0]|[15.9502648638719...|[3.86937983775377...|[0.97955539662429...|       0.0|\n",
            "+-----------+-----+----------------+---------+------------------+--------------------+--------------------+--------------------+----------+\n",
            "only showing top 20 rows\n",
            "\n"
          ],
          "name": "stdout"
        }
      ]
    },
    {
      "cell_type": "code",
      "metadata": {
        "id": "b2SCXVkDr71f",
        "colab_type": "code",
        "colab": {}
      },
      "source": [
        "evaluator = BinaryClassificationEvaluator(\n",
        "    rawPredictionCol = 'rawPrediction',\n",
        "    labelCol = 'Habitable'\n",
        ")"
      ],
      "execution_count": 0,
      "outputs": []
    },
    {
      "cell_type": "code",
      "metadata": {
        "id": "psHHa3sDr_KA",
        "colab_type": "code",
        "outputId": "d76716e0-2c21-41b5-8060-a3efbe3f0012",
        "colab": {
          "base_uri": "https://localhost:8080/",
          "height": 35
        }
      },
      "source": [
        "accuracy = evaluator.evaluate(prediction)*100\n",
        "accuracy = round(accuracy, 2)\n",
        "print(f'Accuracy: {accuracy}%')"
      ],
      "execution_count": 21,
      "outputs": [
        {
          "output_type": "stream",
          "text": [
            "Accuracy: 91.71%\n"
          ],
          "name": "stdout"
        }
      ]
    }
  ]
}